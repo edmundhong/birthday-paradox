{
 "cells": [
  {
   "cell_type": "markdown",
   "id": "ab7c1047",
   "metadata": {},
   "source": [
    "# The Birthday Paradox"
   ]
  },
  {
   "cell_type": "markdown",
   "id": "6879f026",
   "metadata": {},
   "source": [
    "In a room with N people, what is the probability of two people sharing the same birthday?"
   ]
  },
  {
   "cell_type": "markdown",
   "id": "21601ded",
   "metadata": {},
   "source": [
    "In this scenario, we are going to assume:\n",
    "1. No twins\n",
    "2. No leap years\n",
    "3. No patterns"
   ]
  },
  {
   "cell_type": "markdown",
   "id": "15dd6b0b",
   "metadata": {},
   "source": [
    "## Calculate Probability of Not Having the Same Birthday\n"
   ]
  },
  {
   "cell_type": "markdown",
   "id": "d7df42b2",
   "metadata": {},
   "source": [
    "$$ p = \\frac{365}{365} x \\frac{364}{365} x \\frac{363}{365} x ... x \\frac{365-N+1}{365} $$"
   ]
  },
  {
   "cell_type": "markdown",
   "id": "93424499",
   "metadata": {},
   "source": [
    "$$ p = \\frac{365!}{(365-N)! x 365^{N}} $$"
   ]
  },
  {
   "cell_type": "markdown",
   "id": "2241e37a",
   "metadata": {},
   "source": [
    "## Calculate Probability of Having the Same Birthday"
   ]
  },
  {
   "cell_type": "markdown",
   "id": "aff18e69",
   "metadata": {},
   "source": [
    "$$ p = 1 - \\frac{365!}{(365-N)! x 365^{N}} $$"
   ]
  },
  {
   "cell_type": "code",
   "execution_count": 46,
   "id": "36d649b6",
   "metadata": {},
   "outputs": [],
   "source": [
    "import math\n",
    "from decimal import Decimal # use Decimal to overcome OverFlow Error\n",
    "\n",
    "def same_birthday_probability(N):\n",
    "    p_not_same_birthday = math.factorial(365) / ( math.factorial(365-N) * pow(Decimal(365),N) )\n",
    "    p_same_birthday = 1 - float(p_not_same_birthday)\n",
    "    return round(p_same_birthday,4)"
   ]
  },
  {
   "cell_type": "markdown",
   "id": "185ff9b9",
   "metadata": {},
   "source": [
    "## Few Examples"
   ]
  },
  {
   "cell_type": "code",
   "execution_count": 59,
   "id": "cd95430f",
   "metadata": {},
   "outputs": [
    {
     "name": "stdout",
     "output_type": "stream",
     "text": [
      "In a room of 5, the probability of at least two people having the same birthday is 0.0271\n",
      "In a room of 10, the probability of at least two people having the same birthday is 0.1169\n",
      "In a room of 15, the probability of at least two people having the same birthday is 0.2529\n",
      "Number of people needed to get at least 50% probability: 23\n",
      "Number of people needed to get 100% probability: 83\n"
     ]
    }
   ],
   "source": [
    "import numpy as np\n",
    "\n",
    "# Room of 5\n",
    "print(f'In a room of 5, the probability of at least two people having the same birthday is {same_birthday_probability(5)}')\n",
    "\n",
    "# Room of 10\n",
    "print(f'In a room of 10, the probability of at least two people having the same birthday is {same_birthday_probability(10)}')\n",
    "\n",
    "# Room of 15\n",
    "print(f'In a room of 15, the probability of at least two people having the same birthday is {same_birthday_probability(15)}')\n",
    "\n",
    "people = np.arange(1, 366, 1)\n",
    "probs = {n:same_birthday_probability(n) for n in people}\n",
    "\n",
    "# at least 50%\n",
    "for key,value in probs.items():\n",
    "    if value > 0.5:\n",
    "        print(f'Number of people needed to get at least 50% probability: {key}')\n",
    "        break\n",
    "        \n",
    "# 100%\n",
    "for key,value in probs.items():\n",
    "    if value >= 1.0:\n",
    "        print(f'Number of people needed to get 100% probability: {key}')\n",
    "        break"
   ]
  },
  {
   "cell_type": "markdown",
   "id": "5b662edf",
   "metadata": {},
   "source": [
    "## Visualization"
   ]
  },
  {
   "cell_type": "code",
   "execution_count": 106,
   "id": "581ac218",
   "metadata": {},
   "outputs": [
    {
     "data": {
      "image/png": "[encoded data removed]",
      "text/plain": [
       "<Figure size 432x288 with 1 Axes>"
      ]
     },
     "metadata": {
      "needs_background": "light"
     },
     "output_type": "display_data"
    }
   ],
   "source": [
    "import matplotlib.pyplot as plt\n",
    "\n",
    "# plot\n",
    "plt.plot(people, probs.values())\n",
    "plt.xlabel('Number of People')\n",
    "plt.ylabel('Probability')\n",
    "plt.title('Probability of at least 2 People Having the Same Birthday')\n",
    "plt.vlines(83, ymin = 0, ymax = 1, linestyles = 'dashed', color = 'red', label = \"100% Probability\")\n",
    "plt.axhline(1, xmin = 0, xmax = .25, ls = 'dashed', color = 'red')\n",
    "plt.text(85, 0, s = '83', c='red')\n",
    "plt.vlines(23, ymin = 0, ymax = 0.5, linestyles = 'dashed', color = 'green', label = \"50% Probability\")\n",
    "plt.axhline(0.5, xmin = 0, xmax = .1, ls = 'dashed', color = 'green')\n",
    "plt.text(25, 0, s = '23', c='green')\n",
    "plt.legend()\n",
    "plt.show()"
   ]
  }
 ],
 "metadata": {
  "kernelspec": {
   "display_name": "Python 3 (ipykernel)",
   "language": "python",
   "name": "python3"
  },
  "language_info": {
   "codemirror_mode": {
    "name": "ipython",
    "version": 3
   },
   "file_extension": ".py",
   "mimetype": "text/x-python",
   "name": "python",
   "nbconvert_exporter": "python",
   "pygments_lexer": "ipython3",
   "version": "3.9.7"
  }
 },
 "nbformat": 4,
 "nbformat_minor": 5
}
