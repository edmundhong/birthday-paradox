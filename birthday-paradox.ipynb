{
 "cells": [
  {
   "cell_type": "markdown",
   "id": "2592f691",
   "metadata": {},
   "source": [
    "# The Birthday Paradox"
   ]
  },
  {
   "cell_type": "markdown",
   "id": "b6594716",
   "metadata": {},
   "source": [
    "In a room with N people, what is the probability of two people sharing the same birthday?"
   ]
  },
  {
   "cell_type": "markdown",
   "id": "eb38f27f",
   "metadata": {},
   "source": [
    "In this scenario, we are going to assume:\n",
    "1. No twins\n",
    "2. No leap years\n",
    "3. No patterns"
   ]
  },
  {
   "cell_type": "markdown",
   "id": "1af03368",
   "metadata": {},
   "source": [
    "## Calculate Probability of Not Having the Same Birthday\n"
   ]
  },
  {
   "cell_type": "markdown",
   "id": "0c0e008a",
   "metadata": {},
   "source": [
    "$$ p = \\frac{365}{365} x \\frac{364}{365} x \\frac{363}{365} x ... x \\frac{365-N+1}{365} $$"
   ]
  },
  {
   "cell_type": "markdown",
   "id": "b24d6cc4",
   "metadata": {},
   "source": [
    "$$ p = \\frac{365!}{(365-N)! x 365^{N}} $$"
   ]
  },
  {
   "cell_type": "markdown",
   "id": "77597b25",
   "metadata": {},
   "source": [
    "## Calculate Probability of Having the Same Birthday"
   ]
  },
  {
   "cell_type": "markdown",
   "id": "92a59bd4",
   "metadata": {},
   "source": [
    "$$ p = 1 - \\frac{365!}{(365-N)! x 365^{N}} $$"
   ]
  },
  {
   "cell_type": "code",
   "execution_count": 13,
   "id": "61802452",
   "metadata": {},
   "outputs": [],
   "source": [
    "import math\n",
    "from decimal import Decimal # use Decimal to overcome OverFlow Error\n",
    "\n",
    "def same_birthday_probability(N):\n",
    "    p_not_same_birthday = math.factorial(365) / ( math.factorial(365-N) * pow(Decimal(365),N) )\n",
    "    p_same_birthday = 1 - float(p_not_same_birthday)\n",
    "    return round(p_same_birthday,4)"
   ]
  },
  {
   "cell_type": "markdown",
   "id": "478eea95",
   "metadata": {},
   "source": [
    "## Few Examples"
   ]
  },
  {
   "cell_type": "code",
   "execution_count": 14,
   "id": "985d5aed",
   "metadata": {},
   "outputs": [
    {
     "name": "stdout",
     "output_type": "stream",
     "text": [
      "In a room of 5, the probability of at least two people having the same birthday is 0.0271\n",
      "In a room of 10, the probability of at least two people having the same birthday is 0.1169\n",
      "In a room of 15, the probability of at least two people having the same birthday is 0.2529\n",
      "Number of people needed to get at least 50% probability: 23\n",
      "Number of people needed to get at least 99% probability: 57\n"
     ]
    }
   ],
   "source": [
    "import numpy as np\n",
    "\n",
    "# Room of 5\n",
    "print(f'In a room of 5, the probability of at least two people having the same birthday is {same_birthday_probability(5)}')\n",
    "\n",
    "# Room of 10\n",
    "print(f'In a room of 10, the probability of at least two people having the same birthday is {same_birthday_probability(10)}')\n",
    "\n",
    "# Room of 15\n",
    "print(f'In a room of 15, the probability of at least two people having the same birthday is {same_birthday_probability(15)}')\n",
    "\n",
    "people = np.arange(1, 366, 1)\n",
    "probs = {n:same_birthday_probability(n) for n in people}\n",
    "\n",
    "# at least 50%\n",
    "for key,value in probs.items():\n",
    "    if value >= 0.5:\n",
    "        print(f'Number of people needed to get at least 50% probability: {key}')\n",
    "        break\n",
    "        \n",
    "# 99%\n",
    "for key,value in probs.items():\n",
    "    if value >= 0.99:\n",
    "        print(f'Number of people needed to get at least 99% probability: {key}')\n",
    "        break"
   ]
  },
  {
   "cell_type": "markdown",
   "id": "b662764f",
   "metadata": {},
   "source": [
    "## Visualization"
   ]
  },
  {
   "cell_type": "code",
   "execution_count": 15,
   "id": "55e65083",
   "metadata": {},
   "outputs": [
    {
     "data": {
      "image/png": "[encoded data removed]",
      "text/plain": [
       "<Figure size 432x288 with 1 Axes>"
      ]
     },
     "metadata": {
      "needs_background": "light"
     },
     "output_type": "display_data"
    }
   ],
   "source": [
    "import matplotlib.pyplot as plt\n",
    "\n",
    "# plot\n",
    "plt.plot(people, probs.values())\n",
    "plt.xlabel('Number of People')\n",
    "plt.ylabel('Probability')\n",
    "plt.title('Probability of at least 2 People Having the Same Birthday')\n",
    "plt.vlines(57, ymin = 0, ymax = 0.99, linestyles = 'dashed', color = 'red', label = \"99% Probability\")\n",
    "plt.axhline(0.99, xmin = 0, xmax = .18, ls = 'dashed', color = 'red')\n",
    "plt.text(60, 0, s = '57', c='red')\n",
    "plt.vlines(23, ymin = 0, ymax = 0.5, linestyles = 'dashed', color = 'green', label = \"50% Probability\")\n",
    "plt.axhline(0.5, xmin = 0, xmax = .1, ls = 'dashed', color = 'green')\n",
    "plt.text(25, 0, s = '23', c='green')\n",
    "plt.legend()\n",
    "plt.show()"
   ]
  }
 ],
 "metadata": {
  "kernelspec": {
   "display_name": "Python 3.9.13 ('tf')",
   "language": "python",
   "name": "python3"
  },
  "language_info": {
   "codemirror_mode": {
    "name": "ipython",
    "version": 3
   },
   "file_extension": ".py",
   "mimetype": "text/x-python",
   "name": "python",
   "nbconvert_exporter": "python",
   "pygments_lexer": "ipython3",
   "version": "3.9.13"
  },
  "vscode": {
   "interpreter": {
    "hash": "8fd89edb112bb13006f5198d76bc14738c98a39d91c420a4518908914765aede"
   }
  }
 },
 "nbformat": 4,
 "nbformat_minor": 5
}
